{
 "cells": [
  {
   "cell_type": "markdown",
   "metadata": {},
   "source": [
    "# Ejemplo 02\n",
    "**_Dr. Antonio Arista Jalife._**\n",
    "\n",
    "En este ejemplo crearemos un sistema de regresión polinomial: Utilizaremos los grados de un polinomio para curvear la línea (o el plano) y evaluar que tal mejora una predicción"
   ]
  },
  {
   "cell_type": "code",
   "execution_count": 1,
   "metadata": {
    "collapsed": true
   },
   "outputs": [],
   "source": [
    "import numpy as np\n",
    "import pandas as pd\n",
    "from sklearn.datasets import fetch_california_housing\n",
    "from sklearn.model_selection import train_test_split\n",
    "from sklearn.linear_model import LinearRegression\n",
    "from sklearn.preprocessing import PolynomialFeatures\n",
    "from sklearn.metrics import mean_squared_error"
   ]
  },
  {
   "cell_type": "markdown",
   "metadata": {},
   "source": [
    "y = x + bias\n",
    "y = x^2 + x + bias\n",
    "x1 = x^2\n",
    "y = x1 + x + bias\n",
    "y = w1*x^2 + w2*x + bias"
   ]
  },
  {
   "cell_type": "markdown",
   "metadata": {},
   "source": [
    "y = x1 + x2 + bias\n",
    "t1 = x1^2\n",
    "t2 = x2^2\n",
    "t3 = x1*x2\n",
    "y = t1 + t2 + t3 + x1 + x2 + bias"
   ]
  },
  {
   "cell_type": "code",
   "execution_count": 2,
   "metadata": {
    "collapsed": true
   },
   "outputs": [],
   "source": [
    "housing = fetch_california_housing()\n",
    "housingDataFrame = pd.DataFrame(housing.data, columns = housing.feature_names)\n",
    "housingDataFrame[\"MedHouseVal\"] = housing.target\n",
    "X = housingDataFrame[['MedInc', 'AveBedrms']]\n",
    "Y = housingDataFrame['MedHouseVal']\n",
    "X_train, X_test, Y_train, Y_test = train_test_split(X, Y, test_size = 0.4, random_state=5)"
   ]
  },
  {
   "cell_type": "markdown",
   "metadata": {},
   "source": [
    "### Ejemplo lineal:\n",
    "Primero probaremos con predicciones lineales"
   ]
  },
  {
   "cell_type": "code",
   "execution_count": 3,
   "metadata": {},
   "outputs": [
    {
     "name": "stdout",
     "output_type": "stream",
     "text": [
      "Entrenamiento: MSE =0.697532017688797\n",
      "Pruebas: MSE =0.7068301704412728\n"
     ]
    },
    {
     "data": {
      "text/html": [
       "<div>\n",
       "<style scoped>\n",
       "    .dataframe tbody tr th:only-of-type {\n",
       "        vertical-align: middle;\n",
       "    }\n",
       "\n",
       "    .dataframe tbody tr th {\n",
       "        vertical-align: top;\n",
       "    }\n",
       "\n",
       "    .dataframe thead th {\n",
       "        text-align: right;\n",
       "    }\n",
       "</style>\n",
       "<table border=\"1\" class=\"dataframe\">\n",
       "  <thead>\n",
       "    <tr style=\"text-align: right;\">\n",
       "      <th></th>\n",
       "      <th>valor_real</th>\n",
       "      <th>prediccion</th>\n",
       "      <th>diferencia</th>\n",
       "    </tr>\n",
       "  </thead>\n",
       "  <tbody>\n",
       "    <tr>\n",
       "      <th>0</th>\n",
       "      <td>0.93600</td>\n",
       "      <td>1.586953</td>\n",
       "      <td>-0.650953</td>\n",
       "    </tr>\n",
       "    <tr>\n",
       "      <th>1</th>\n",
       "      <td>1.53600</td>\n",
       "      <td>1.952220</td>\n",
       "      <td>-0.416220</td>\n",
       "    </tr>\n",
       "    <tr>\n",
       "      <th>2</th>\n",
       "      <td>1.32500</td>\n",
       "      <td>1.394057</td>\n",
       "      <td>-0.069057</td>\n",
       "    </tr>\n",
       "    <tr>\n",
       "      <th>3</th>\n",
       "      <td>1.47900</td>\n",
       "      <td>1.555578</td>\n",
       "      <td>-0.076578</td>\n",
       "    </tr>\n",
       "    <tr>\n",
       "      <th>4</th>\n",
       "      <td>1.20700</td>\n",
       "      <td>1.514277</td>\n",
       "      <td>-0.307277</td>\n",
       "    </tr>\n",
       "    <tr>\n",
       "      <th>5</th>\n",
       "      <td>1.15500</td>\n",
       "      <td>2.457804</td>\n",
       "      <td>-1.302804</td>\n",
       "    </tr>\n",
       "    <tr>\n",
       "      <th>6</th>\n",
       "      <td>1.63300</td>\n",
       "      <td>1.638246</td>\n",
       "      <td>-0.005246</td>\n",
       "    </tr>\n",
       "    <tr>\n",
       "      <th>7</th>\n",
       "      <td>1.60300</td>\n",
       "      <td>1.721920</td>\n",
       "      <td>-0.118920</td>\n",
       "    </tr>\n",
       "    <tr>\n",
       "      <th>8</th>\n",
       "      <td>3.40600</td>\n",
       "      <td>3.030692</td>\n",
       "      <td>0.375308</td>\n",
       "    </tr>\n",
       "    <tr>\n",
       "      <th>9</th>\n",
       "      <td>5.00001</td>\n",
       "      <td>3.682019</td>\n",
       "      <td>1.317991</td>\n",
       "    </tr>\n",
       "  </tbody>\n",
       "</table>\n",
       "</div>"
      ],
      "text/plain": [
       "   valor_real  prediccion  diferencia\n",
       "0     0.93600    1.586953   -0.650953\n",
       "1     1.53600    1.952220   -0.416220\n",
       "2     1.32500    1.394057   -0.069057\n",
       "3     1.47900    1.555578   -0.076578\n",
       "4     1.20700    1.514277   -0.307277\n",
       "5     1.15500    2.457804   -1.302804\n",
       "6     1.63300    1.638246   -0.005246\n",
       "7     1.60300    1.721920   -0.118920\n",
       "8     3.40600    3.030692    0.375308\n",
       "9     5.00001    3.682019    1.317991"
      ]
     },
     "execution_count": 3,
     "metadata": {},
     "output_type": "execute_result"
    }
   ],
   "source": [
    "lin_model = LinearRegression()\n",
    "lin_model.fit(X_train, Y_train)\n",
    "y_train_predict = lin_model.predict(X_train)\n",
    "MSE = mean_squared_error(Y_train,y_train_predict)\n",
    "print(\"Entrenamiento: MSE =\"+str(MSE))\n",
    "\n",
    "y_test_predict = lin_model.predict(X_test)\n",
    "MSE = (mean_squared_error(Y_test, y_test_predict))\n",
    "print(\"Pruebas: MSE =\"+str(MSE))\n",
    "\n",
    "df_predicciones = pd.DataFrame({'valor_real':Y_test, 'prediccion':y_test_predict, 'diferencia':Y_test-y_test_predict})\n",
    "df_predicciones = df_predicciones.reset_index(drop = True)\n",
    "df_predicciones.head(10)"
   ]
  },
  {
   "cell_type": "markdown",
   "metadata": {},
   "source": [
    "### Ejemplo de polinomio de grado 2\n",
    "Ahora probaremos con un polinomio de grado 2"
   ]
  },
  {
   "cell_type": "code",
   "execution_count": 4,
   "metadata": {},
   "outputs": [
    {
     "name": "stdout",
     "output_type": "stream",
     "text": [
      "Entrenamiento: MSE =0.6926995352961527\n",
      "Pruebas: MSE =0.6982901767917583\n"
     ]
    },
    {
     "data": {
      "text/html": [
       "<div>\n",
       "<style scoped>\n",
       "    .dataframe tbody tr th:only-of-type {\n",
       "        vertical-align: middle;\n",
       "    }\n",
       "\n",
       "    .dataframe tbody tr th {\n",
       "        vertical-align: top;\n",
       "    }\n",
       "\n",
       "    .dataframe thead th {\n",
       "        text-align: right;\n",
       "    }\n",
       "</style>\n",
       "<table border=\"1\" class=\"dataframe\">\n",
       "  <thead>\n",
       "    <tr style=\"text-align: right;\">\n",
       "      <th></th>\n",
       "      <th>valor_real</th>\n",
       "      <th>prediccion</th>\n",
       "      <th>diferencia</th>\n",
       "    </tr>\n",
       "  </thead>\n",
       "  <tbody>\n",
       "    <tr>\n",
       "      <th>0</th>\n",
       "      <td>0.93600</td>\n",
       "      <td>1.576446</td>\n",
       "      <td>-0.640446</td>\n",
       "    </tr>\n",
       "    <tr>\n",
       "      <th>1</th>\n",
       "      <td>1.53600</td>\n",
       "      <td>1.977706</td>\n",
       "      <td>-0.441706</td>\n",
       "    </tr>\n",
       "    <tr>\n",
       "      <th>2</th>\n",
       "      <td>1.32500</td>\n",
       "      <td>1.523437</td>\n",
       "      <td>-0.198437</td>\n",
       "    </tr>\n",
       "    <tr>\n",
       "      <th>3</th>\n",
       "      <td>1.47900</td>\n",
       "      <td>1.540762</td>\n",
       "      <td>-0.061762</td>\n",
       "    </tr>\n",
       "    <tr>\n",
       "      <th>4</th>\n",
       "      <td>1.20700</td>\n",
       "      <td>1.494667</td>\n",
       "      <td>-0.287667</td>\n",
       "    </tr>\n",
       "    <tr>\n",
       "      <th>5</th>\n",
       "      <td>1.15500</td>\n",
       "      <td>2.509804</td>\n",
       "      <td>-1.354804</td>\n",
       "    </tr>\n",
       "    <tr>\n",
       "      <th>6</th>\n",
       "      <td>1.63300</td>\n",
       "      <td>1.633680</td>\n",
       "      <td>-0.000680</td>\n",
       "    </tr>\n",
       "    <tr>\n",
       "      <th>7</th>\n",
       "      <td>1.60300</td>\n",
       "      <td>1.726007</td>\n",
       "      <td>-0.123007</td>\n",
       "    </tr>\n",
       "    <tr>\n",
       "      <th>8</th>\n",
       "      <td>3.40600</td>\n",
       "      <td>3.082113</td>\n",
       "      <td>0.323887</td>\n",
       "    </tr>\n",
       "    <tr>\n",
       "      <th>9</th>\n",
       "      <td>5.00001</td>\n",
       "      <td>3.688743</td>\n",
       "      <td>1.311267</td>\n",
       "    </tr>\n",
       "  </tbody>\n",
       "</table>\n",
       "</div>"
      ],
      "text/plain": [
       "   valor_real  prediccion  diferencia\n",
       "0     0.93600    1.576446   -0.640446\n",
       "1     1.53600    1.977706   -0.441706\n",
       "2     1.32500    1.523437   -0.198437\n",
       "3     1.47900    1.540762   -0.061762\n",
       "4     1.20700    1.494667   -0.287667\n",
       "5     1.15500    2.509804   -1.354804\n",
       "6     1.63300    1.633680   -0.000680\n",
       "7     1.60300    1.726007   -0.123007\n",
       "8     3.40600    3.082113    0.323887\n",
       "9     5.00001    3.688743    1.311267"
      ]
     },
     "execution_count": 4,
     "metadata": {},
     "output_type": "execute_result"
    }
   ],
   "source": [
    "poly_model = LinearRegression()\n",
    "poly = PolynomialFeatures(degree=2)\n",
    "\n",
    "Xpolytrain = poly.fit_transform(X_train)\n",
    "Xpolytest = poly.fit_transform(X_test)\n",
    "\n",
    "poly_model.fit(Xpolytrain, Y_train)\n",
    "y_train_predict = poly_model.predict(Xpolytrain)\n",
    "\n",
    "MSE = mean_squared_error(Y_train,y_train_predict)\n",
    "print(\"Entrenamiento: MSE =\"+str(MSE))\n",
    "\n",
    "y_test_predict = poly_model.predict(Xpolytest)\n",
    "MSE = (mean_squared_error(Y_test, y_test_predict))\n",
    "print(\"Pruebas: MSE =\"+str(MSE))\n",
    "\n",
    "df_predicciones = pd.DataFrame({'valor_real':Y_test, 'prediccion':y_test_predict, 'diferencia':Y_test-y_test_predict})\n",
    "df_predicciones = df_predicciones.reset_index(drop = True)\n",
    "df_predicciones.head(10)"
   ]
  },
  {
   "cell_type": "code",
   "execution_count": null,
   "metadata": {
    "collapsed": true
   },
   "outputs": [],
   "source": []
  }
 ],
 "metadata": {
  "kernelspec": {
   "display_name": "Python 3",
   "language": "python",
   "name": "python3"
  },
  "language_info": {
   "codemirror_mode": {
    "name": "ipython",
    "version": 3
   },
   "file_extension": ".py",
   "mimetype": "text/x-python",
   "name": "python",
   "nbconvert_exporter": "python",
   "pygments_lexer": "ipython3",
   "version": "3.11.5"
  }
 },
 "nbformat": 4,
 "nbformat_minor": 2
}
