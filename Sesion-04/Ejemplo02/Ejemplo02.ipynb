{
 "cells": [
  {
   "cell_type": "markdown",
   "metadata": {},
   "source": [
    "# Ejemplo 02\n",
    "**_Dr. Antonio Arista Jalife._**\n",
    "\n",
    "En este ejemplo crearemos un sistema de regresión polinomial: Utilizaremos los grados de un polinomio para curvear la línea (o el plano) y evaluar que tal mejora una predicción"
   ]
  },
  {
   "cell_type": "code",
   "execution_count": 1,
   "metadata": {
    "collapsed": true
   },
   "outputs": [],
   "source": [
    "import numpy as np\n",
    "import pandas as pd\n",
    "from sklearn.datasets import fetch_california_housing\n",
    "from sklearn.model_selection import train_test_split\n",
    "from sklearn.linear_model import LinearRegression\n",
    "from sklearn.preprocessing import PolynomialFeatures\n",
    "from sklearn.metrics import mean_squared_error"
   ]
  },
  {
   "cell_type": "code",
   "execution_count": 8,
   "metadata": {
    "collapsed": true
   },
   "outputs": [],
   "source": [
    "housing = fetch_california_housing()\n",
    "housingDataFrame = pd.DataFrame(housing.data, columns = housing.feature_names)\n",
    "housingDataFrame[\"MedHouseVal\"] = housing.target\n",
    "X = housingDataFrame.drop('MedHouseVal', axis = 1)\n",
    "Y = housingDataFrame['MedHouseVal']\n",
    "X_train, X_test, Y_train, Y_test = train_test_split(X, Y, test_size = 0.4, random_state=5)"
   ]
  },
  {
   "cell_type": "markdown",
   "metadata": {},
   "source": [
    "### Ejemplo lineal:\n",
    "Primero probaremos con predicciones lineales"
   ]
  },
  {
   "cell_type": "code",
   "execution_count": 9,
   "metadata": {},
   "outputs": [
    {
     "name": "stdout",
     "output_type": "stream",
     "text": [
      "Entrenamiento: MSE =0.5184098069585754\n",
      "Pruebas: MSE =0.5337602496187848\n"
     ]
    },
    {
     "data": {
      "text/html": [
       "<div>\n",
       "<style scoped>\n",
       "    .dataframe tbody tr th:only-of-type {\n",
       "        vertical-align: middle;\n",
       "    }\n",
       "\n",
       "    .dataframe tbody tr th {\n",
       "        vertical-align: top;\n",
       "    }\n",
       "\n",
       "    .dataframe thead th {\n",
       "        text-align: right;\n",
       "    }\n",
       "</style>\n",
       "<table border=\"1\" class=\"dataframe\">\n",
       "  <thead>\n",
       "    <tr style=\"text-align: right;\">\n",
       "      <th></th>\n",
       "      <th>valor_real</th>\n",
       "      <th>prediccion</th>\n",
       "      <th>diferencia</th>\n",
       "    </tr>\n",
       "  </thead>\n",
       "  <tbody>\n",
       "    <tr>\n",
       "      <th>0</th>\n",
       "      <td>0.93600</td>\n",
       "      <td>1.696470</td>\n",
       "      <td>-0.760470</td>\n",
       "    </tr>\n",
       "    <tr>\n",
       "      <th>1</th>\n",
       "      <td>1.53600</td>\n",
       "      <td>1.940313</td>\n",
       "      <td>-0.404313</td>\n",
       "    </tr>\n",
       "    <tr>\n",
       "      <th>2</th>\n",
       "      <td>1.32500</td>\n",
       "      <td>0.958007</td>\n",
       "      <td>0.366993</td>\n",
       "    </tr>\n",
       "    <tr>\n",
       "      <th>3</th>\n",
       "      <td>1.47900</td>\n",
       "      <td>1.734499</td>\n",
       "      <td>-0.255499</td>\n",
       "    </tr>\n",
       "    <tr>\n",
       "      <th>4</th>\n",
       "      <td>1.20700</td>\n",
       "      <td>1.750087</td>\n",
       "      <td>-0.543087</td>\n",
       "    </tr>\n",
       "    <tr>\n",
       "      <th>5</th>\n",
       "      <td>1.15500</td>\n",
       "      <td>1.856828</td>\n",
       "      <td>-0.701828</td>\n",
       "    </tr>\n",
       "    <tr>\n",
       "      <th>6</th>\n",
       "      <td>1.63300</td>\n",
       "      <td>1.468177</td>\n",
       "      <td>0.164823</td>\n",
       "    </tr>\n",
       "    <tr>\n",
       "      <th>7</th>\n",
       "      <td>1.60300</td>\n",
       "      <td>1.959325</td>\n",
       "      <td>-0.356325</td>\n",
       "    </tr>\n",
       "    <tr>\n",
       "      <th>8</th>\n",
       "      <td>3.40600</td>\n",
       "      <td>3.189840</td>\n",
       "      <td>0.216160</td>\n",
       "    </tr>\n",
       "    <tr>\n",
       "      <th>9</th>\n",
       "      <td>5.00001</td>\n",
       "      <td>3.938889</td>\n",
       "      <td>1.061121</td>\n",
       "    </tr>\n",
       "  </tbody>\n",
       "</table>\n",
       "</div>"
      ],
      "text/plain": [
       "   valor_real  prediccion  diferencia\n",
       "0     0.93600    1.696470   -0.760470\n",
       "1     1.53600    1.940313   -0.404313\n",
       "2     1.32500    0.958007    0.366993\n",
       "3     1.47900    1.734499   -0.255499\n",
       "4     1.20700    1.750087   -0.543087\n",
       "5     1.15500    1.856828   -0.701828\n",
       "6     1.63300    1.468177    0.164823\n",
       "7     1.60300    1.959325   -0.356325\n",
       "8     3.40600    3.189840    0.216160\n",
       "9     5.00001    3.938889    1.061121"
      ]
     },
     "execution_count": 9,
     "metadata": {},
     "output_type": "execute_result"
    }
   ],
   "source": [
    "lin_model = LinearRegression()\n",
    "lin_model.fit(X_train, Y_train)\n",
    "y_train_predict = lin_model.predict(X_train)\n",
    "MSE = mean_squared_error(Y_train,y_train_predict)\n",
    "print(\"Entrenamiento: MSE =\"+str(MSE))\n",
    "\n",
    "y_test_predict = lin_model.predict(X_test)\n",
    "MSE = (mean_squared_error(Y_test, y_test_predict))\n",
    "print(\"Pruebas: MSE =\"+str(MSE))\n",
    "\n",
    "df_predicciones = pd.DataFrame({'valor_real':Y_test, 'prediccion':y_test_predict, 'diferencia':Y_test-y_test_predict})\n",
    "df_predicciones = df_predicciones.reset_index(drop = True)\n",
    "df_predicciones.head(10)"
   ]
  },
  {
   "cell_type": "markdown",
   "metadata": {},
   "source": [
    "### Ejemplo de polinomio de grado 2\n",
    "Ahora probaremos con un polinomio de grado 2"
   ]
  },
  {
   "cell_type": "code",
   "execution_count": 10,
   "metadata": {},
   "outputs": [
    {
     "data": {
      "text/plain": [
       "array([[ 1.00000000e+00,  5.52280000e+00,  1.40000000e+01, ...,\n",
       "         1.42581760e+03, -4.56103040e+03,  1.45902241e+04],\n",
       "       [ 1.00000000e+00,  1.96500000e+00,  2.30000000e+01, ...,\n",
       "         1.73056000e+03, -5.13385600e+03,  1.52300281e+04],\n",
       "       [ 1.00000000e+00,  4.12500000e+00,  1.80000000e+01, ...,\n",
       "         1.22290090e+03, -4.21108740e+03,  1.45009764e+04],\n",
       "       ...,\n",
       "       [ 1.00000000e+00,  5.80960000e+00,  2.00000000e+01, ...,\n",
       "         1.17443290e+03, -4.06956250e+03,  1.41015625e+04],\n",
       "       [ 1.00000000e+00,  3.59430000e+00,  1.40000000e+01, ...,\n",
       "         1.36826010e+03, -4.51204020e+03,  1.48791204e+04],\n",
       "       [ 1.00000000e+00,  4.34820000e+00,  9.00000000e+00, ...,\n",
       "         1.25032960e+03, -4.20996160e+03,  1.41752836e+04]])"
      ]
     },
     "execution_count": 10,
     "metadata": {},
     "output_type": "execute_result"
    }
   ],
   "source": [
    "poly_model = LinearRegression()\n",
    "poly = PolynomialFeatures(degree=2)\n",
    "\n",
    "Xpolytrain = poly.fit_transform(X_train)\n",
    "Xpolytest = poly.fit_transform(X_test)\n",
    "Xpolytrain # 6 columnas: MedInc, AveBdrms, MedInc2, AveBdrms2, MedInc*AveBdrms, solita"
   ]
  },
  {
   "cell_type": "code",
   "execution_count": 11,
   "metadata": {},
   "outputs": [
    {
     "name": "stdout",
     "output_type": "stream",
     "text": [
      "Entrenamiento: MSE =0.414578560127964\n",
      "Pruebas: MSE =5.150029728111247\n"
     ]
    },
    {
     "data": {
      "text/html": [
       "<div>\n",
       "<style scoped>\n",
       "    .dataframe tbody tr th:only-of-type {\n",
       "        vertical-align: middle;\n",
       "    }\n",
       "\n",
       "    .dataframe tbody tr th {\n",
       "        vertical-align: top;\n",
       "    }\n",
       "\n",
       "    .dataframe thead th {\n",
       "        text-align: right;\n",
       "    }\n",
       "</style>\n",
       "<table border=\"1\" class=\"dataframe\">\n",
       "  <thead>\n",
       "    <tr style=\"text-align: right;\">\n",
       "      <th></th>\n",
       "      <th>valor_real</th>\n",
       "      <th>prediccion</th>\n",
       "      <th>diferencia</th>\n",
       "    </tr>\n",
       "  </thead>\n",
       "  <tbody>\n",
       "    <tr>\n",
       "      <th>0</th>\n",
       "      <td>0.93600</td>\n",
       "      <td>1.527609</td>\n",
       "      <td>-0.591609</td>\n",
       "    </tr>\n",
       "    <tr>\n",
       "      <th>1</th>\n",
       "      <td>1.53600</td>\n",
       "      <td>1.972667</td>\n",
       "      <td>-0.436667</td>\n",
       "    </tr>\n",
       "    <tr>\n",
       "      <th>2</th>\n",
       "      <td>1.32500</td>\n",
       "      <td>1.482197</td>\n",
       "      <td>-0.157197</td>\n",
       "    </tr>\n",
       "    <tr>\n",
       "      <th>3</th>\n",
       "      <td>1.47900</td>\n",
       "      <td>1.417488</td>\n",
       "      <td>0.061512</td>\n",
       "    </tr>\n",
       "    <tr>\n",
       "      <th>4</th>\n",
       "      <td>1.20700</td>\n",
       "      <td>1.778217</td>\n",
       "      <td>-0.571217</td>\n",
       "    </tr>\n",
       "    <tr>\n",
       "      <th>5</th>\n",
       "      <td>1.15500</td>\n",
       "      <td>1.460064</td>\n",
       "      <td>-0.305064</td>\n",
       "    </tr>\n",
       "    <tr>\n",
       "      <th>6</th>\n",
       "      <td>1.63300</td>\n",
       "      <td>1.465058</td>\n",
       "      <td>0.167942</td>\n",
       "    </tr>\n",
       "    <tr>\n",
       "      <th>7</th>\n",
       "      <td>1.60300</td>\n",
       "      <td>2.082916</td>\n",
       "      <td>-0.479916</td>\n",
       "    </tr>\n",
       "    <tr>\n",
       "      <th>8</th>\n",
       "      <td>3.40600</td>\n",
       "      <td>3.474848</td>\n",
       "      <td>-0.068848</td>\n",
       "    </tr>\n",
       "    <tr>\n",
       "      <th>9</th>\n",
       "      <td>5.00001</td>\n",
       "      <td>4.463894</td>\n",
       "      <td>0.536116</td>\n",
       "    </tr>\n",
       "  </tbody>\n",
       "</table>\n",
       "</div>"
      ],
      "text/plain": [
       "   valor_real  prediccion  diferencia\n",
       "0     0.93600    1.527609   -0.591609\n",
       "1     1.53600    1.972667   -0.436667\n",
       "2     1.32500    1.482197   -0.157197\n",
       "3     1.47900    1.417488    0.061512\n",
       "4     1.20700    1.778217   -0.571217\n",
       "5     1.15500    1.460064   -0.305064\n",
       "6     1.63300    1.465058    0.167942\n",
       "7     1.60300    2.082916   -0.479916\n",
       "8     3.40600    3.474848   -0.068848\n",
       "9     5.00001    4.463894    0.536116"
      ]
     },
     "execution_count": 11,
     "metadata": {},
     "output_type": "execute_result"
    }
   ],
   "source": [
    "\n",
    "poly_model.fit(Xpolytrain, Y_train)\n",
    "y_train_predict = poly_model.predict(Xpolytrain)\n",
    "\n",
    "MSE = mean_squared_error(Y_train,y_train_predict)\n",
    "print(\"Entrenamiento: MSE =\"+str(MSE))\n",
    "\n",
    "y_test_predict = poly_model.predict(Xpolytest)\n",
    "MSE = (mean_squared_error(Y_test, y_test_predict))\n",
    "print(\"Pruebas: MSE =\"+str(MSE))\n",
    "\n",
    "df_predicciones = pd.DataFrame({'valor_real':Y_test, 'prediccion':y_test_predict, 'diferencia':Y_test-y_test_predict})\n",
    "df_predicciones = df_predicciones.reset_index(drop = True)\n",
    "df_predicciones.head(10)"
   ]
  },
  {
   "cell_type": "code",
   "execution_count": 6,
   "metadata": {
    "collapsed": true
   },
   "outputs": [],
   "source": [
    "from sklearn.metrics import mean_absolute_percentage_error as mape"
   ]
  },
  {
   "cell_type": "code",
   "execution_count": 12,
   "metadata": {},
   "outputs": [
    {
     "data": {
      "text/plain": [
       "0.2911313043996396"
      ]
     },
     "execution_count": 12,
     "metadata": {},
     "output_type": "execute_result"
    }
   ],
   "source": [
    "mape(Y_test, y_test_predict)"
   ]
  },
  {
   "cell_type": "code",
   "execution_count": null,
   "metadata": {},
   "outputs": [],
   "source": []
  }
 ],
 "metadata": {
  "kernelspec": {
   "display_name": "Python 3",
   "language": "python",
   "name": "python3"
  },
  "language_info": {
   "codemirror_mode": {
    "name": "ipython",
    "version": 3
   },
   "file_extension": ".py",
   "mimetype": "text/x-python",
   "name": "python",
   "nbconvert_exporter": "python",
   "pygments_lexer": "ipython3",
   "version": "3.11.7"
  }
 },
 "nbformat": 4,
 "nbformat_minor": 2
}
