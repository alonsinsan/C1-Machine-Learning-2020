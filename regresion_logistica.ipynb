{
 "cells": [
  {
   "cell_type": "code",
   "execution_count": 4,
   "metadata": {},
   "outputs": [],
   "source": [
    "from sklearn.linear_model import LogisticRegression\n",
    "from sklearn.metrics import confusion_matrix\n",
    "from sklearn.datasets import make_blobs\n",
    "import pandas as pd"
   ]
  },
  {
   "cell_type": "code",
   "execution_count": 2,
   "metadata": {},
   "outputs": [],
   "source": [
    "x,y = make_blobs(n_samples = 100,  n_features = 2, centers = 2)"
   ]
  },
  {
   "cell_type": "code",
   "execution_count": 5,
   "metadata": {},
   "outputs": [
    {
     "data": {
      "text/html": [
       "<div>\n",
       "<style scoped>\n",
       "    .dataframe tbody tr th:only-of-type {\n",
       "        vertical-align: middle;\n",
       "    }\n",
       "\n",
       "    .dataframe tbody tr th {\n",
       "        vertical-align: top;\n",
       "    }\n",
       "\n",
       "    .dataframe thead th {\n",
       "        text-align: right;\n",
       "    }\n",
       "</style>\n",
       "<table border=\"1\" class=\"dataframe\">\n",
       "  <thead>\n",
       "    <tr style=\"text-align: right;\">\n",
       "      <th></th>\n",
       "      <th>monto_credito</th>\n",
       "      <th>ingreso</th>\n",
       "      <th>mora</th>\n",
       "    </tr>\n",
       "  </thead>\n",
       "  <tbody>\n",
       "    <tr>\n",
       "      <th>0</th>\n",
       "      <td>0.705698</td>\n",
       "      <td>-6.853219</td>\n",
       "      <td>0</td>\n",
       "    </tr>\n",
       "    <tr>\n",
       "      <th>1</th>\n",
       "      <td>-2.440940</td>\n",
       "      <td>-5.377819</td>\n",
       "      <td>0</td>\n",
       "    </tr>\n",
       "    <tr>\n",
       "      <th>2</th>\n",
       "      <td>-5.649354</td>\n",
       "      <td>6.925794</td>\n",
       "      <td>1</td>\n",
       "    </tr>\n",
       "    <tr>\n",
       "      <th>3</th>\n",
       "      <td>-1.239488</td>\n",
       "      <td>-6.650879</td>\n",
       "      <td>0</td>\n",
       "    </tr>\n",
       "    <tr>\n",
       "      <th>4</th>\n",
       "      <td>-0.233711</td>\n",
       "      <td>-5.231511</td>\n",
       "      <td>0</td>\n",
       "    </tr>\n",
       "    <tr>\n",
       "      <th>...</th>\n",
       "      <td>...</td>\n",
       "      <td>...</td>\n",
       "      <td>...</td>\n",
       "    </tr>\n",
       "    <tr>\n",
       "      <th>95</th>\n",
       "      <td>-5.034538</td>\n",
       "      <td>5.919460</td>\n",
       "      <td>1</td>\n",
       "    </tr>\n",
       "    <tr>\n",
       "      <th>96</th>\n",
       "      <td>-3.963410</td>\n",
       "      <td>8.750238</td>\n",
       "      <td>1</td>\n",
       "    </tr>\n",
       "    <tr>\n",
       "      <th>97</th>\n",
       "      <td>-5.576556</td>\n",
       "      <td>7.307506</td>\n",
       "      <td>1</td>\n",
       "    </tr>\n",
       "    <tr>\n",
       "      <th>98</th>\n",
       "      <td>-1.030694</td>\n",
       "      <td>-8.779970</td>\n",
       "      <td>0</td>\n",
       "    </tr>\n",
       "    <tr>\n",
       "      <th>99</th>\n",
       "      <td>-1.238320</td>\n",
       "      <td>-6.009296</td>\n",
       "      <td>0</td>\n",
       "    </tr>\n",
       "  </tbody>\n",
       "</table>\n",
       "<p>100 rows × 3 columns</p>\n",
       "</div>"
      ],
      "text/plain": [
       "    monto_credito   ingreso  mora\n",
       "0        0.705698 -6.853219     0\n",
       "1       -2.440940 -5.377819     0\n",
       "2       -5.649354  6.925794     1\n",
       "3       -1.239488 -6.650879     0\n",
       "4       -0.233711 -5.231511     0\n",
       "..            ...       ...   ...\n",
       "95      -5.034538  5.919460     1\n",
       "96      -3.963410  8.750238     1\n",
       "97      -5.576556  7.307506     1\n",
       "98      -1.030694 -8.779970     0\n",
       "99      -1.238320 -6.009296     0\n",
       "\n",
       "[100 rows x 3 columns]"
      ]
     },
     "execution_count": 5,
     "metadata": {},
     "output_type": "execute_result"
    }
   ],
   "source": [
    "datos = pd.DataFrame(data = x, columns = [\"monto_credito\", \"ingreso\"])\n",
    "datos[\"mora\"] = y\n",
    "datos"
   ]
  },
  {
   "cell_type": "code",
   "execution_count": 6,
   "metadata": {},
   "outputs": [
    {
     "data": {
      "text/html": [
       "<style>#sk-container-id-1 {color: black;background-color: white;}#sk-container-id-1 pre{padding: 0;}#sk-container-id-1 div.sk-toggleable {background-color: white;}#sk-container-id-1 label.sk-toggleable__label {cursor: pointer;display: block;width: 100%;margin-bottom: 0;padding: 0.3em;box-sizing: border-box;text-align: center;}#sk-container-id-1 label.sk-toggleable__label-arrow:before {content: \"▸\";float: left;margin-right: 0.25em;color: #696969;}#sk-container-id-1 label.sk-toggleable__label-arrow:hover:before {color: black;}#sk-container-id-1 div.sk-estimator:hover label.sk-toggleable__label-arrow:before {color: black;}#sk-container-id-1 div.sk-toggleable__content {max-height: 0;max-width: 0;overflow: hidden;text-align: left;background-color: #f0f8ff;}#sk-container-id-1 div.sk-toggleable__content pre {margin: 0.2em;color: black;border-radius: 0.25em;background-color: #f0f8ff;}#sk-container-id-1 input.sk-toggleable__control:checked~div.sk-toggleable__content {max-height: 200px;max-width: 100%;overflow: auto;}#sk-container-id-1 input.sk-toggleable__control:checked~label.sk-toggleable__label-arrow:before {content: \"▾\";}#sk-container-id-1 div.sk-estimator input.sk-toggleable__control:checked~label.sk-toggleable__label {background-color: #d4ebff;}#sk-container-id-1 div.sk-label input.sk-toggleable__control:checked~label.sk-toggleable__label {background-color: #d4ebff;}#sk-container-id-1 input.sk-hidden--visually {border: 0;clip: rect(1px 1px 1px 1px);clip: rect(1px, 1px, 1px, 1px);height: 1px;margin: -1px;overflow: hidden;padding: 0;position: absolute;width: 1px;}#sk-container-id-1 div.sk-estimator {font-family: monospace;background-color: #f0f8ff;border: 1px dotted black;border-radius: 0.25em;box-sizing: border-box;margin-bottom: 0.5em;}#sk-container-id-1 div.sk-estimator:hover {background-color: #d4ebff;}#sk-container-id-1 div.sk-parallel-item::after {content: \"\";width: 100%;border-bottom: 1px solid gray;flex-grow: 1;}#sk-container-id-1 div.sk-label:hover label.sk-toggleable__label {background-color: #d4ebff;}#sk-container-id-1 div.sk-serial::before {content: \"\";position: absolute;border-left: 1px solid gray;box-sizing: border-box;top: 0;bottom: 0;left: 50%;z-index: 0;}#sk-container-id-1 div.sk-serial {display: flex;flex-direction: column;align-items: center;background-color: white;padding-right: 0.2em;padding-left: 0.2em;position: relative;}#sk-container-id-1 div.sk-item {position: relative;z-index: 1;}#sk-container-id-1 div.sk-parallel {display: flex;align-items: stretch;justify-content: center;background-color: white;position: relative;}#sk-container-id-1 div.sk-item::before, #sk-container-id-1 div.sk-parallel-item::before {content: \"\";position: absolute;border-left: 1px solid gray;box-sizing: border-box;top: 0;bottom: 0;left: 50%;z-index: -1;}#sk-container-id-1 div.sk-parallel-item {display: flex;flex-direction: column;z-index: 1;position: relative;background-color: white;}#sk-container-id-1 div.sk-parallel-item:first-child::after {align-self: flex-end;width: 50%;}#sk-container-id-1 div.sk-parallel-item:last-child::after {align-self: flex-start;width: 50%;}#sk-container-id-1 div.sk-parallel-item:only-child::after {width: 0;}#sk-container-id-1 div.sk-dashed-wrapped {border: 1px dashed gray;margin: 0 0.4em 0.5em 0.4em;box-sizing: border-box;padding-bottom: 0.4em;background-color: white;}#sk-container-id-1 div.sk-label label {font-family: monospace;font-weight: bold;display: inline-block;line-height: 1.2em;}#sk-container-id-1 div.sk-label-container {text-align: center;}#sk-container-id-1 div.sk-container {/* jupyter's `normalize.less` sets `[hidden] { display: none; }` but bootstrap.min.css set `[hidden] { display: none !important; }` so we also need the `!important` here to be able to override the default hidden behavior on the sphinx rendered scikit-learn.org. See: https://github.com/scikit-learn/scikit-learn/issues/21755 */display: inline-block !important;position: relative;}#sk-container-id-1 div.sk-text-repr-fallback {display: none;}</style><div id=\"sk-container-id-1\" class=\"sk-top-container\"><div class=\"sk-text-repr-fallback\"><pre>LogisticRegression()</pre><b>In a Jupyter environment, please rerun this cell to show the HTML representation or trust the notebook. <br />On GitHub, the HTML representation is unable to render, please try loading this page with nbviewer.org.</b></div><div class=\"sk-container\" hidden><div class=\"sk-item\"><div class=\"sk-estimator sk-toggleable\"><input class=\"sk-toggleable__control sk-hidden--visually\" id=\"sk-estimator-id-1\" type=\"checkbox\" checked><label for=\"sk-estimator-id-1\" class=\"sk-toggleable__label sk-toggleable__label-arrow\">LogisticRegression</label><div class=\"sk-toggleable__content\"><pre>LogisticRegression()</pre></div></div></div></div></div>"
      ],
      "text/plain": [
       "LogisticRegression()"
      ]
     },
     "execution_count": 6,
     "metadata": {},
     "output_type": "execute_result"
    }
   ],
   "source": [
    "logi = LogisticRegression()\n",
    "logi.fit(datos[['monto_credito', 'ingreso']], datos['mora'])"
   ]
  },
  {
   "cell_type": "code",
   "execution_count": 7,
   "metadata": {},
   "outputs": [
    {
     "name": "stderr",
     "output_type": "stream",
     "text": [
      "c:\\Users\\alonso.sandoval\\AppData\\Local\\anaconda3\\Lib\\site-packages\\sklearn\\base.py:439: UserWarning: X does not have valid feature names, but LogisticRegression was fitted with feature names\n",
      "  warnings.warn(\n"
     ]
    },
    {
     "data": {
      "text/plain": [
       "array([0, 0, 1, 0, 0, 0, 1, 0, 0, 1, 0, 0, 1, 0, 1, 0, 0, 1, 0, 1, 1, 0,\n",
       "       1, 0, 1, 1, 0, 1, 0, 1, 0, 0, 1, 0, 1, 1, 1, 1, 0, 0, 0, 1, 1, 1,\n",
       "       1, 0, 1, 1, 1, 1, 1, 1, 0, 0, 1, 1, 0, 1, 0, 0, 0, 0, 0, 0, 0, 1,\n",
       "       0, 1, 0, 1, 1, 1, 0, 0, 1, 1, 0, 0, 0, 0, 0, 0, 1, 1, 0, 0, 1, 1,\n",
       "       1, 1, 1, 1, 0, 1, 0, 1, 1, 1, 0, 0])"
      ]
     },
     "execution_count": 7,
     "metadata": {},
     "output_type": "execute_result"
    }
   ],
   "source": [
    "logi.predict(x)"
   ]
  },
  {
   "cell_type": "code",
   "execution_count": 8,
   "metadata": {},
   "outputs": [
    {
     "name": "stderr",
     "output_type": "stream",
     "text": [
      "c:\\Users\\alonso.sandoval\\AppData\\Local\\anaconda3\\Lib\\site-packages\\sklearn\\base.py:439: UserWarning: X does not have valid feature names, but LogisticRegression was fitted with feature names\n",
      "  warnings.warn(\n"
     ]
    },
    {
     "data": {
      "text/plain": [
       "array([[9.99756108e-01, 2.43892018e-04],\n",
       "       [9.97737988e-01, 2.26201220e-03],\n",
       "       [1.21644209e-03, 9.98783558e-01],\n",
       "       [9.99515664e-01, 4.84336432e-04],\n",
       "       [9.98501160e-01, 1.49884028e-03],\n",
       "       [9.99546210e-01, 4.53790352e-04],\n",
       "       [2.93627665e-03, 9.97063723e-01],\n",
       "       [9.95526922e-01, 4.47307777e-03],\n",
       "       [9.96800364e-01, 3.19963578e-03],\n",
       "       [2.38683892e-03, 9.97613161e-01],\n",
       "       [9.99401858e-01, 5.98142483e-04],\n",
       "       [9.96264436e-01, 3.73556370e-03],\n",
       "       [1.33035776e-03, 9.98669642e-01],\n",
       "       [9.99883283e-01, 1.16717180e-04],\n",
       "       [2.59490822e-04, 9.99740509e-01],\n",
       "       [9.98727066e-01, 1.27293350e-03],\n",
       "       [9.99949311e-01, 5.06886011e-05],\n",
       "       [6.95323894e-04, 9.99304676e-01],\n",
       "       [9.99501822e-01, 4.98177737e-04],\n",
       "       [4.98997406e-04, 9.99501003e-01],\n",
       "       [3.39534830e-04, 9.99660465e-01],\n",
       "       [9.81349647e-01, 1.86503532e-02],\n",
       "       [5.16800892e-03, 9.94831991e-01],\n",
       "       [9.99443618e-01, 5.56381612e-04],\n",
       "       [6.63533819e-03, 9.93364662e-01],\n",
       "       [3.18668297e-04, 9.99681332e-01],\n",
       "       [9.99504194e-01, 4.95806137e-04],\n",
       "       [2.15071154e-03, 9.97849288e-01],\n",
       "       [9.99417769e-01, 5.82230844e-04],\n",
       "       [1.56939782e-03, 9.98430602e-01],\n",
       "       [9.99399314e-01, 6.00686249e-04],\n",
       "       [9.98391556e-01, 1.60844365e-03],\n",
       "       [7.32467118e-04, 9.99267533e-01],\n",
       "       [9.98671749e-01, 1.32825144e-03],\n",
       "       [3.17163981e-03, 9.96828360e-01],\n",
       "       [2.64906054e-03, 9.97350939e-01],\n",
       "       [2.07438207e-03, 9.97925618e-01],\n",
       "       [1.95272438e-03, 9.98047276e-01],\n",
       "       [9.98929690e-01, 1.07031026e-03],\n",
       "       [9.95135991e-01, 4.86400883e-03],\n",
       "       [9.99815829e-01, 1.84171014e-04],\n",
       "       [4.76798709e-04, 9.99523201e-01],\n",
       "       [5.08060191e-04, 9.99491940e-01],\n",
       "       [1.82942847e-03, 9.98170572e-01],\n",
       "       [1.45251291e-04, 9.99854749e-01],\n",
       "       [9.99632523e-01, 3.67476993e-04],\n",
       "       [2.12973247e-03, 9.97870268e-01],\n",
       "       [3.54960997e-03, 9.96450390e-01],\n",
       "       [5.72976258e-04, 9.99427024e-01],\n",
       "       [1.73423583e-03, 9.98265764e-01],\n",
       "       [2.04313076e-03, 9.97956869e-01],\n",
       "       [1.13693658e-03, 9.98863063e-01],\n",
       "       [9.90585844e-01, 9.41415594e-03],\n",
       "       [9.99671795e-01, 3.28204986e-04],\n",
       "       [1.29398338e-03, 9.98706017e-01],\n",
       "       [1.87235600e-03, 9.98127644e-01],\n",
       "       [9.98289493e-01, 1.71050679e-03],\n",
       "       [2.42426919e-03, 9.97575731e-01],\n",
       "       [9.99502993e-01, 4.97006538e-04],\n",
       "       [9.98411372e-01, 1.58862752e-03],\n",
       "       [9.99179285e-01, 8.20714677e-04],\n",
       "       [9.97948246e-01, 2.05175357e-03],\n",
       "       [9.98892260e-01, 1.10774023e-03],\n",
       "       [9.99471371e-01, 5.28629381e-04],\n",
       "       [9.98494258e-01, 1.50574219e-03],\n",
       "       [3.47146045e-03, 9.96528540e-01],\n",
       "       [9.99737822e-01, 2.62177942e-04],\n",
       "       [1.63900998e-03, 9.98360990e-01],\n",
       "       [9.99743060e-01, 2.56939980e-04],\n",
       "       [8.00695464e-04, 9.99199305e-01],\n",
       "       [3.90056305e-04, 9.99609944e-01],\n",
       "       [5.93170944e-04, 9.99406829e-01],\n",
       "       [9.99215246e-01, 7.84754477e-04],\n",
       "       [9.99823830e-01, 1.76170328e-04],\n",
       "       [1.67246275e-03, 9.98327537e-01],\n",
       "       [2.44866548e-03, 9.97551335e-01],\n",
       "       [9.98637470e-01, 1.36252965e-03],\n",
       "       [9.99846951e-01, 1.53049475e-04],\n",
       "       [9.97951322e-01, 2.04867754e-03],\n",
       "       [9.98237988e-01, 1.76201152e-03],\n",
       "       [9.95646277e-01, 4.35372264e-03],\n",
       "       [9.97822693e-01, 2.17730660e-03],\n",
       "       [1.53473473e-03, 9.98465265e-01],\n",
       "       [1.01071050e-03, 9.98989289e-01],\n",
       "       [9.99735599e-01, 2.64400668e-04],\n",
       "       [9.97688517e-01, 2.31148341e-03],\n",
       "       [2.22037965e-04, 9.99777962e-01],\n",
       "       [2.98561491e-03, 9.97014385e-01],\n",
       "       [1.18294993e-03, 9.98817050e-01],\n",
       "       [3.61912186e-03, 9.96380878e-01],\n",
       "       [1.35818224e-03, 9.98641818e-01],\n",
       "       [3.49660039e-04, 9.99650340e-01],\n",
       "       [9.99592489e-01, 4.07511459e-04],\n",
       "       [2.61915741e-03, 9.97380843e-01],\n",
       "       [9.99380196e-01, 6.19803549e-04],\n",
       "       [3.77682960e-03, 9.96223170e-01],\n",
       "       [3.14208948e-04, 9.99685791e-01],\n",
       "       [8.54289055e-04, 9.99145711e-01],\n",
       "       [9.99942295e-01, 5.77047779e-05],\n",
       "       [9.99095428e-01, 9.04571604e-04]])"
      ]
     },
     "execution_count": 8,
     "metadata": {},
     "output_type": "execute_result"
    }
   ],
   "source": [
    "logi.predict_proba(x)"
   ]
  },
  {
   "cell_type": "code",
   "execution_count": null,
   "metadata": {},
   "outputs": [],
   "source": []
  }
 ],
 "metadata": {
  "kernelspec": {
   "display_name": "base",
   "language": "python",
   "name": "python3"
  },
  "language_info": {
   "codemirror_mode": {
    "name": "ipython",
    "version": 3
   },
   "file_extension": ".py",
   "mimetype": "text/x-python",
   "name": "python",
   "nbconvert_exporter": "python",
   "pygments_lexer": "ipython3",
   "version": "3.11.7"
  }
 },
 "nbformat": 4,
 "nbformat_minor": 2
}
