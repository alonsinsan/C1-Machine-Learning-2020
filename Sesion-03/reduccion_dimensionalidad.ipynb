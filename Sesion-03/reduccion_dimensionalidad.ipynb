{
 "cells": [
  {
   "cell_type": "code",
   "execution_count": null,
   "metadata": {},
   "outputs": [],
   "source": [
    "# !pip install scikit-learn"
   ]
  },
  {
   "cell_type": "code",
   "execution_count": 5,
   "metadata": {},
   "outputs": [],
   "source": [
    "from sklearn.decomposition import PCA # Principal Components Analysis\n",
    "from sklearn.datasets import make_blobs\n",
    "import matplotlib.pyplot as plt\n",
    "import pandas as pd"
   ]
  },
  {
   "cell_type": "code",
   "execution_count": 7,
   "metadata": {},
   "outputs": [
    {
     "data": {
      "text/html": [
       "<div>\n",
       "<style scoped>\n",
       "    .dataframe tbody tr th:only-of-type {\n",
       "        vertical-align: middle;\n",
       "    }\n",
       "\n",
       "    .dataframe tbody tr th {\n",
       "        vertical-align: top;\n",
       "    }\n",
       "\n",
       "    .dataframe thead th {\n",
       "        text-align: right;\n",
       "    }\n",
       "</style>\n",
       "<table border=\"1\" class=\"dataframe\">\n",
       "  <thead>\n",
       "    <tr style=\"text-align: right;\">\n",
       "      <th></th>\n",
       "      <th>variable_0</th>\n",
       "      <th>variable_1</th>\n",
       "      <th>variable_2</th>\n",
       "      <th>variable_3</th>\n",
       "      <th>variable_4</th>\n",
       "      <th>variable_5</th>\n",
       "      <th>variable_6</th>\n",
       "      <th>variable_7</th>\n",
       "      <th>variable_8</th>\n",
       "      <th>variable_9</th>\n",
       "    </tr>\n",
       "  </thead>\n",
       "  <tbody>\n",
       "    <tr>\n",
       "      <th>0</th>\n",
       "      <td>-0.532500</td>\n",
       "      <td>5.764882</td>\n",
       "      <td>-4.055403</td>\n",
       "      <td>3.835965</td>\n",
       "      <td>-1.185682</td>\n",
       "      <td>-9.112782</td>\n",
       "      <td>-3.316403</td>\n",
       "      <td>-3.443913</td>\n",
       "      <td>-4.298432</td>\n",
       "      <td>5.531530</td>\n",
       "    </tr>\n",
       "    <tr>\n",
       "      <th>1</th>\n",
       "      <td>2.700428</td>\n",
       "      <td>0.489665</td>\n",
       "      <td>5.988814</td>\n",
       "      <td>-8.893771</td>\n",
       "      <td>-10.088705</td>\n",
       "      <td>-10.882456</td>\n",
       "      <td>5.444942</td>\n",
       "      <td>0.724792</td>\n",
       "      <td>-6.772124</td>\n",
       "      <td>2.534533</td>\n",
       "    </tr>\n",
       "    <tr>\n",
       "      <th>2</th>\n",
       "      <td>0.708201</td>\n",
       "      <td>4.409456</td>\n",
       "      <td>-3.660176</td>\n",
       "      <td>4.798108</td>\n",
       "      <td>0.715091</td>\n",
       "      <td>-8.601777</td>\n",
       "      <td>-1.891219</td>\n",
       "      <td>-5.172184</td>\n",
       "      <td>-2.085189</td>\n",
       "      <td>6.584385</td>\n",
       "    </tr>\n",
       "    <tr>\n",
       "      <th>3</th>\n",
       "      <td>-2.910081</td>\n",
       "      <td>3.240915</td>\n",
       "      <td>5.716431</td>\n",
       "      <td>-2.308480</td>\n",
       "      <td>0.303056</td>\n",
       "      <td>5.924796</td>\n",
       "      <td>-6.992325</td>\n",
       "      <td>1.245883</td>\n",
       "      <td>7.330076</td>\n",
       "      <td>12.206077</td>\n",
       "    </tr>\n",
       "    <tr>\n",
       "      <th>4</th>\n",
       "      <td>9.614651</td>\n",
       "      <td>2.672591</td>\n",
       "      <td>-2.982653</td>\n",
       "      <td>3.305575</td>\n",
       "      <td>2.156516</td>\n",
       "      <td>7.583653</td>\n",
       "      <td>-8.081623</td>\n",
       "      <td>-0.824944</td>\n",
       "      <td>-3.029795</td>\n",
       "      <td>4.860781</td>\n",
       "    </tr>\n",
       "    <tr>\n",
       "      <th>...</th>\n",
       "      <td>...</td>\n",
       "      <td>...</td>\n",
       "      <td>...</td>\n",
       "      <td>...</td>\n",
       "      <td>...</td>\n",
       "      <td>...</td>\n",
       "      <td>...</td>\n",
       "      <td>...</td>\n",
       "      <td>...</td>\n",
       "      <td>...</td>\n",
       "    </tr>\n",
       "    <tr>\n",
       "      <th>995</th>\n",
       "      <td>-3.989659</td>\n",
       "      <td>3.111160</td>\n",
       "      <td>4.443206</td>\n",
       "      <td>-1.451357</td>\n",
       "      <td>2.343193</td>\n",
       "      <td>6.812731</td>\n",
       "      <td>-9.304363</td>\n",
       "      <td>-0.041299</td>\n",
       "      <td>4.265568</td>\n",
       "      <td>8.323356</td>\n",
       "    </tr>\n",
       "    <tr>\n",
       "      <th>996</th>\n",
       "      <td>8.619613</td>\n",
       "      <td>3.558375</td>\n",
       "      <td>-1.160657</td>\n",
       "      <td>4.167520</td>\n",
       "      <td>0.173035</td>\n",
       "      <td>6.855761</td>\n",
       "      <td>-7.788468</td>\n",
       "      <td>-1.691572</td>\n",
       "      <td>-2.555373</td>\n",
       "      <td>4.003508</td>\n",
       "    </tr>\n",
       "    <tr>\n",
       "      <th>997</th>\n",
       "      <td>-5.957759</td>\n",
       "      <td>4.777891</td>\n",
       "      <td>8.031656</td>\n",
       "      <td>-2.923042</td>\n",
       "      <td>1.231774</td>\n",
       "      <td>6.508088</td>\n",
       "      <td>-7.716659</td>\n",
       "      <td>2.252539</td>\n",
       "      <td>6.095603</td>\n",
       "      <td>8.193283</td>\n",
       "    </tr>\n",
       "    <tr>\n",
       "      <th>998</th>\n",
       "      <td>0.144286</td>\n",
       "      <td>-1.048658</td>\n",
       "      <td>-0.425563</td>\n",
       "      <td>-9.515859</td>\n",
       "      <td>5.753291</td>\n",
       "      <td>6.470495</td>\n",
       "      <td>8.847914</td>\n",
       "      <td>9.485499</td>\n",
       "      <td>9.180314</td>\n",
       "      <td>-6.539454</td>\n",
       "    </tr>\n",
       "    <tr>\n",
       "      <th>999</th>\n",
       "      <td>-4.787009</td>\n",
       "      <td>4.892682</td>\n",
       "      <td>6.550321</td>\n",
       "      <td>-0.961413</td>\n",
       "      <td>0.142521</td>\n",
       "      <td>5.832946</td>\n",
       "      <td>-8.979865</td>\n",
       "      <td>0.554249</td>\n",
       "      <td>5.942521</td>\n",
       "      <td>9.308272</td>\n",
       "    </tr>\n",
       "  </tbody>\n",
       "</table>\n",
       "<p>1000 rows × 10 columns</p>\n",
       "</div>"
      ],
      "text/plain": [
       "     variable_0  variable_1  variable_2  variable_3  variable_4  variable_5  \\\n",
       "0     -0.532500    5.764882   -4.055403    3.835965   -1.185682   -9.112782   \n",
       "1      2.700428    0.489665    5.988814   -8.893771  -10.088705  -10.882456   \n",
       "2      0.708201    4.409456   -3.660176    4.798108    0.715091   -8.601777   \n",
       "3     -2.910081    3.240915    5.716431   -2.308480    0.303056    5.924796   \n",
       "4      9.614651    2.672591   -2.982653    3.305575    2.156516    7.583653   \n",
       "..          ...         ...         ...         ...         ...         ...   \n",
       "995   -3.989659    3.111160    4.443206   -1.451357    2.343193    6.812731   \n",
       "996    8.619613    3.558375   -1.160657    4.167520    0.173035    6.855761   \n",
       "997   -5.957759    4.777891    8.031656   -2.923042    1.231774    6.508088   \n",
       "998    0.144286   -1.048658   -0.425563   -9.515859    5.753291    6.470495   \n",
       "999   -4.787009    4.892682    6.550321   -0.961413    0.142521    5.832946   \n",
       "\n",
       "     variable_6  variable_7  variable_8  variable_9  \n",
       "0     -3.316403   -3.443913   -4.298432    5.531530  \n",
       "1      5.444942    0.724792   -6.772124    2.534533  \n",
       "2     -1.891219   -5.172184   -2.085189    6.584385  \n",
       "3     -6.992325    1.245883    7.330076   12.206077  \n",
       "4     -8.081623   -0.824944   -3.029795    4.860781  \n",
       "..          ...         ...         ...         ...  \n",
       "995   -9.304363   -0.041299    4.265568    8.323356  \n",
       "996   -7.788468   -1.691572   -2.555373    4.003508  \n",
       "997   -7.716659    2.252539    6.095603    8.193283  \n",
       "998    8.847914    9.485499    9.180314   -6.539454  \n",
       "999   -8.979865    0.554249    5.942521    9.308272  \n",
       "\n",
       "[1000 rows x 10 columns]"
      ]
     },
     "execution_count": 7,
     "metadata": {},
     "output_type": "execute_result"
    }
   ],
   "source": [
    "x,y = make_blobs(n_samples = 1000,n_features = 10, centers = 5)\n",
    "df = pd.DataFrame(data = x, columns = [\"variable_\" + str(i) for i in range(10)])\n",
    "df"
   ]
  },
  {
   "cell_type": "code",
   "execution_count": 37,
   "metadata": {},
   "outputs": [
    {
     "data": {
      "image/png": "[encoded data removed]",
      "text/plain": [
       "<Figure size 640x480 with 1 Axes>"
      ]
     },
     "metadata": {},
     "output_type": "display_data"
    }
   ],
   "source": [
    "plt.scatter(df[\"variable_3\"], df[\"variable_6\"])\n",
    "plt.show()"
   ]
  },
  {
   "cell_type": "code",
   "execution_count": 26,
   "metadata": {},
   "outputs": [
    {
     "data": {
      "text/html": [
       "<div>\n",
       "<style scoped>\n",
       "    .dataframe tbody tr th:only-of-type {\n",
       "        vertical-align: middle;\n",
       "    }\n",
       "\n",
       "    .dataframe tbody tr th {\n",
       "        vertical-align: top;\n",
       "    }\n",
       "\n",
       "    .dataframe thead th {\n",
       "        text-align: right;\n",
       "    }\n",
       "</style>\n",
       "<table border=\"1\" class=\"dataframe\">\n",
       "  <thead>\n",
       "    <tr style=\"text-align: right;\">\n",
       "      <th></th>\n",
       "      <th>Componente 1</th>\n",
       "      <th>Componente 2</th>\n",
       "    </tr>\n",
       "  </thead>\n",
       "  <tbody>\n",
       "    <tr>\n",
       "      <th>0</th>\n",
       "      <td>-12.268101</td>\n",
       "      <td>3.495361</td>\n",
       "    </tr>\n",
       "    <tr>\n",
       "      <th>1</th>\n",
       "      <td>-2.025630</td>\n",
       "      <td>18.555262</td>\n",
       "    </tr>\n",
       "    <tr>\n",
       "      <th>2</th>\n",
       "      <td>-11.604012</td>\n",
       "      <td>2.275747</td>\n",
       "    </tr>\n",
       "    <tr>\n",
       "      <th>3</th>\n",
       "      <td>-0.149086</td>\n",
       "      <td>-10.086638</td>\n",
       "    </tr>\n",
       "    <tr>\n",
       "      <th>4</th>\n",
       "      <td>-6.395714</td>\n",
       "      <td>-10.146931</td>\n",
       "    </tr>\n",
       "    <tr>\n",
       "      <th>...</th>\n",
       "      <td>...</td>\n",
       "      <td>...</td>\n",
       "    </tr>\n",
       "    <tr>\n",
       "      <th>995</th>\n",
       "      <td>-1.173531</td>\n",
       "      <td>-11.113372</td>\n",
       "    </tr>\n",
       "    <tr>\n",
       "      <th>996</th>\n",
       "      <td>-6.880167</td>\n",
       "      <td>-9.115473</td>\n",
       "    </tr>\n",
       "    <tr>\n",
       "      <th>997</th>\n",
       "      <td>1.849317</td>\n",
       "      <td>-9.968587</td>\n",
       "    </tr>\n",
       "    <tr>\n",
       "      <th>998</th>\n",
       "      <td>21.351255</td>\n",
       "      <td>-0.474042</td>\n",
       "    </tr>\n",
       "    <tr>\n",
       "      <th>999</th>\n",
       "      <td>-1.350074</td>\n",
       "      <td>-10.563991</td>\n",
       "    </tr>\n",
       "  </tbody>\n",
       "</table>\n",
       "<p>1000 rows × 2 columns</p>\n",
       "</div>"
      ],
      "text/plain": [
       "     Componente 1  Componente 2\n",
       "0      -12.268101      3.495361\n",
       "1       -2.025630     18.555262\n",
       "2      -11.604012      2.275747\n",
       "3       -0.149086    -10.086638\n",
       "4       -6.395714    -10.146931\n",
       "..            ...           ...\n",
       "995     -1.173531    -11.113372\n",
       "996     -6.880167     -9.115473\n",
       "997      1.849317     -9.968587\n",
       "998     21.351255     -0.474042\n",
       "999     -1.350074    -10.563991\n",
       "\n",
       "[1000 rows x 2 columns]"
      ]
     },
     "execution_count": 26,
     "metadata": {},
     "output_type": "execute_result"
    }
   ],
   "source": [
    "n = 2\n",
    "pca = PCA(n_components=n)\n",
    "x_transformed = pca.fit_transform(df)\n",
    "df_transformed = pd.DataFrame(data = x_transformed, columns = ['Componente ' + str(i+1) for i in range(n)])\n",
    "df_transformed"
   ]
  },
  {
   "cell_type": "code",
   "execution_count": 27,
   "metadata": {},
   "outputs": [
    {
     "data": {
      "image/png": "[encoded data removed]",
      "text/plain": [
       "<Figure size 640x480 with 1 Axes>"
      ]
     },
     "metadata": {},
     "output_type": "display_data"
    }
   ],
   "source": [
    "plt.scatter(df_transformed[\"Componente 1\"], df_transformed[\"Componente 2\"])\n",
    "plt.show()"
   ]
  },
  {
   "cell_type": "code",
   "execution_count": 28,
   "metadata": {},
   "outputs": [
    {
     "data": {
      "text/plain": [
       "0.7466201816678343"
      ]
     },
     "execution_count": 28,
     "metadata": {},
     "output_type": "execute_result"
    }
   ],
   "source": [
    "sum(pca.explained_variance_ratio_)"
   ]
  },
  {
   "cell_type": "code",
   "execution_count": null,
   "metadata": {},
   "outputs": [],
   "source": []
  },
  {
   "cell_type": "markdown",
   "metadata": {},
   "source": [
    "Ejercicio de clusterización sobre mi dataset con 10 variables"
   ]
  },
  {
   "cell_type": "code",
   "execution_count": 20,
   "metadata": {},
   "outputs": [],
   "source": [
    "from sklearn.cluster import KMeans"
   ]
  },
  {
   "cell_type": "code",
   "execution_count": 29,
   "metadata": {},
   "outputs": [
    {
     "name": "stderr",
     "output_type": "stream",
     "text": [
      "c:\\Users\\alonso.sandoval\\AppData\\Local\\anaconda3\\Lib\\site-packages\\sklearn\\cluster\\_kmeans.py:870: FutureWarning: The default value of `n_init` will change from 10 to 'auto' in 1.4. Set the value of `n_init` explicitly to suppress the warning\n",
      "  warnings.warn(\n",
      "c:\\Users\\alonso.sandoval\\AppData\\Local\\anaconda3\\Lib\\site-packages\\sklearn\\cluster\\_kmeans.py:1382: UserWarning: KMeans is known to have a memory leak on Windows with MKL, when there are less chunks than available threads. You can avoid it by setting the environment variable OMP_NUM_THREADS=4.\n",
      "  warnings.warn(\n",
      "c:\\Users\\alonso.sandoval\\AppData\\Local\\anaconda3\\Lib\\site-packages\\sklearn\\base.py:439: UserWarning: X does not have valid feature names, but PCA was fitted with feature names\n",
      "  warnings.warn(\n"
     ]
    }
   ],
   "source": [
    "# Mi decisión de 5 clsuters la hago por la gráfica\n",
    "kmeans = KMeans(5)\n",
    "kmeans.fit(df)\n",
    "centroides = kmeans.cluster_centers_\n",
    "centroides_transformed = pca.transform(centroides)"
   ]
  },
  {
   "cell_type": "code",
   "execution_count": 30,
   "metadata": {},
   "outputs": [
    {
     "data": {
      "text/plain": [
       "array([[ 9.88015961,  2.61840119, -2.79439824,  4.34747607,  0.34272014,\n",
       "         6.7255553 , -8.10085437, -0.38296762, -2.65938339,  3.59893882],\n",
       "       [ 0.61681472, -0.274548  , -0.26417792, -9.24230225,  5.35825719,\n",
       "         6.25756314,  8.60357258,  8.61891063,  9.18090527, -6.25886318],\n",
       "       [ 2.62734024, -1.26542323,  5.82715368, -9.86287623, -9.42723783,\n",
       "        -9.94504136,  4.66131688,  0.30867747, -5.77614165,  1.51222772],\n",
       "       [-4.24361194,  4.32552162,  6.96261091, -1.75242007,  1.12500983,\n",
       "         6.47289437, -8.62964171,  1.28641388,  6.51798803,  9.42573828],\n",
       "       [ 0.18148773,  5.52780133, -4.5911233 ,  3.9770731 ,  0.37433104,\n",
       "        -9.38334937, -3.24146411, -5.50085189, -3.87261186,  6.47315986]])"
      ]
     },
     "execution_count": 30,
     "metadata": {},
     "output_type": "execute_result"
    }
   ],
   "source": [
    "centroides"
   ]
  },
  {
   "cell_type": "code",
   "execution_count": 31,
   "metadata": {},
   "outputs": [
    {
     "data": {
      "text/plain": [
       "array([[ -6.63203606,  -9.23341765],\n",
       "       [ 20.40850194,  -0.50670332],\n",
       "       [ -0.64991088,  17.82603363],\n",
       "       [  0.07201979, -11.00804804],\n",
       "       [-13.1985748 ,   2.92213538]])"
      ]
     },
     "execution_count": 31,
     "metadata": {},
     "output_type": "execute_result"
    }
   ],
   "source": [
    "centroides_transformed"
   ]
  },
  {
   "cell_type": "code",
   "execution_count": 33,
   "metadata": {},
   "outputs": [
    {
     "data": {
      "image/png": "[encoded data removed]",
      "text/plain": [
       "<Figure size 640x480 with 1 Axes>"
      ]
     },
     "metadata": {},
     "output_type": "display_data"
    }
   ],
   "source": [
    "plt.scatter(df_transformed[\"Componente 1\"], df_transformed[\"Componente 2\"])\n",
    "plt.scatter(centroides_transformed[:,0], centroides_transformed[:,1], marker = \"o\")\n",
    "plt.show()"
   ]
  },
  {
   "cell_type": "code",
   "execution_count": null,
   "metadata": {},
   "outputs": [],
   "source": []
  }
 ],
 "metadata": {
  "kernelspec": {
   "display_name": "base",
   "language": "python",
   "name": "python3"
  },
  "language_info": {
   "codemirror_mode": {
    "name": "ipython",
    "version": 3
   },
   "file_extension": ".py",
   "mimetype": "text/x-python",
   "name": "python",
   "nbconvert_exporter": "python",
   "pygments_lexer": "ipython3",
   "version": "3.11.7"
  }
 },
 "nbformat": 4,
 "nbformat_minor": 2
}
