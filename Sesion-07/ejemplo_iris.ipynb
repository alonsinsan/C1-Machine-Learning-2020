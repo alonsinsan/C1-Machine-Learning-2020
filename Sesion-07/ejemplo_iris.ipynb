{
 "cells": [
  {
   "cell_type": "code",
   "execution_count": 1,
   "metadata": {},
   "outputs": [],
   "source": [
    "from sklearn.datasets import load_iris\n",
    "import pandas as pd\n",
    "import numpy as np \n",
    "from matplotlib import pyplot as plt\n",
    "from sklearn import tree as treeClassifier\n",
    "from sklearn.ensemble import RandomForestClassifier as forest\n",
    "from sklearn.model_selection import train_test_split\n",
    "from sklearn.metrics import confusion_matrix, accuracy_score\n",
    "from sklearn.neural_network import MLPClassifier\n",
    "from sklearn.linear_model import LogisticRegression\n",
    "from sklearn.svm import SVC \n",
    "from sklearn.naive_bayes import GaussianNB\n",
    "import time"
   ]
  },
  {
   "cell_type": "code",
   "execution_count": 2,
   "metadata": {},
   "outputs": [
    {
     "data": {
      "text/plain": [
       "dict_keys(['data', 'target', 'frame', 'target_names', 'DESCR', 'feature_names', 'filename', 'data_module'])"
      ]
     },
     "execution_count": 2,
     "metadata": {},
     "output_type": "execute_result"
    }
   ],
   "source": [
    "datos = load_iris()\n",
    "datos.keys()"
   ]
  },
  {
   "cell_type": "code",
   "execution_count": 3,
   "metadata": {},
   "outputs": [
    {
     "data": {
      "text/plain": [
       "array(['setosa', 'versicolor', 'virginica'], dtype='<U10')"
      ]
     },
     "execution_count": 3,
     "metadata": {},
     "output_type": "execute_result"
    }
   ],
   "source": [
    "datos[\"target_names\"]"
   ]
  },
  {
   "cell_type": "code",
   "execution_count": 4,
   "metadata": {},
   "outputs": [
    {
     "data": {
      "text/html": [
       "<div>\n",
       "<style scoped>\n",
       "    .dataframe tbody tr th:only-of-type {\n",
       "        vertical-align: middle;\n",
       "    }\n",
       "\n",
       "    .dataframe tbody tr th {\n",
       "        vertical-align: top;\n",
       "    }\n",
       "\n",
       "    .dataframe thead th {\n",
       "        text-align: right;\n",
       "    }\n",
       "</style>\n",
       "<table border=\"1\" class=\"dataframe\">\n",
       "  <thead>\n",
       "    <tr style=\"text-align: right;\">\n",
       "      <th></th>\n",
       "      <th>sepal length (cm)</th>\n",
       "      <th>sepal width (cm)</th>\n",
       "      <th>petal length (cm)</th>\n",
       "      <th>petal width (cm)</th>\n",
       "      <th>especie</th>\n",
       "    </tr>\n",
       "  </thead>\n",
       "  <tbody>\n",
       "    <tr>\n",
       "      <th>0</th>\n",
       "      <td>5.1</td>\n",
       "      <td>3.5</td>\n",
       "      <td>1.4</td>\n",
       "      <td>0.2</td>\n",
       "      <td>0</td>\n",
       "    </tr>\n",
       "    <tr>\n",
       "      <th>1</th>\n",
       "      <td>4.9</td>\n",
       "      <td>3.0</td>\n",
       "      <td>1.4</td>\n",
       "      <td>0.2</td>\n",
       "      <td>0</td>\n",
       "    </tr>\n",
       "    <tr>\n",
       "      <th>2</th>\n",
       "      <td>4.7</td>\n",
       "      <td>3.2</td>\n",
       "      <td>1.3</td>\n",
       "      <td>0.2</td>\n",
       "      <td>0</td>\n",
       "    </tr>\n",
       "    <tr>\n",
       "      <th>3</th>\n",
       "      <td>4.6</td>\n",
       "      <td>3.1</td>\n",
       "      <td>1.5</td>\n",
       "      <td>0.2</td>\n",
       "      <td>0</td>\n",
       "    </tr>\n",
       "    <tr>\n",
       "      <th>4</th>\n",
       "      <td>5.0</td>\n",
       "      <td>3.6</td>\n",
       "      <td>1.4</td>\n",
       "      <td>0.2</td>\n",
       "      <td>0</td>\n",
       "    </tr>\n",
       "    <tr>\n",
       "      <th>...</th>\n",
       "      <td>...</td>\n",
       "      <td>...</td>\n",
       "      <td>...</td>\n",
       "      <td>...</td>\n",
       "      <td>...</td>\n",
       "    </tr>\n",
       "    <tr>\n",
       "      <th>145</th>\n",
       "      <td>6.7</td>\n",
       "      <td>3.0</td>\n",
       "      <td>5.2</td>\n",
       "      <td>2.3</td>\n",
       "      <td>2</td>\n",
       "    </tr>\n",
       "    <tr>\n",
       "      <th>146</th>\n",
       "      <td>6.3</td>\n",
       "      <td>2.5</td>\n",
       "      <td>5.0</td>\n",
       "      <td>1.9</td>\n",
       "      <td>2</td>\n",
       "    </tr>\n",
       "    <tr>\n",
       "      <th>147</th>\n",
       "      <td>6.5</td>\n",
       "      <td>3.0</td>\n",
       "      <td>5.2</td>\n",
       "      <td>2.0</td>\n",
       "      <td>2</td>\n",
       "    </tr>\n",
       "    <tr>\n",
       "      <th>148</th>\n",
       "      <td>6.2</td>\n",
       "      <td>3.4</td>\n",
       "      <td>5.4</td>\n",
       "      <td>2.3</td>\n",
       "      <td>2</td>\n",
       "    </tr>\n",
       "    <tr>\n",
       "      <th>149</th>\n",
       "      <td>5.9</td>\n",
       "      <td>3.0</td>\n",
       "      <td>5.1</td>\n",
       "      <td>1.8</td>\n",
       "      <td>2</td>\n",
       "    </tr>\n",
       "  </tbody>\n",
       "</table>\n",
       "<p>150 rows × 5 columns</p>\n",
       "</div>"
      ],
      "text/plain": [
       "     sepal length (cm)  sepal width (cm)  petal length (cm)  petal width (cm)  \\\n",
       "0                  5.1               3.5                1.4               0.2   \n",
       "1                  4.9               3.0                1.4               0.2   \n",
       "2                  4.7               3.2                1.3               0.2   \n",
       "3                  4.6               3.1                1.5               0.2   \n",
       "4                  5.0               3.6                1.4               0.2   \n",
       "..                 ...               ...                ...               ...   \n",
       "145                6.7               3.0                5.2               2.3   \n",
       "146                6.3               2.5                5.0               1.9   \n",
       "147                6.5               3.0                5.2               2.0   \n",
       "148                6.2               3.4                5.4               2.3   \n",
       "149                5.9               3.0                5.1               1.8   \n",
       "\n",
       "     especie  \n",
       "0          0  \n",
       "1          0  \n",
       "2          0  \n",
       "3          0  \n",
       "4          0  \n",
       "..       ...  \n",
       "145        2  \n",
       "146        2  \n",
       "147        2  \n",
       "148        2  \n",
       "149        2  \n",
       "\n",
       "[150 rows x 5 columns]"
      ]
     },
     "execution_count": 4,
     "metadata": {},
     "output_type": "execute_result"
    }
   ],
   "source": [
    "dataset = pd.DataFrame(data = datos[\"data\"], columns =  datos[\"feature_names\"])\n",
    "dataset[\"especie\"] = datos[\"target\"]\n",
    "dataset"
   ]
  },
  {
   "cell_type": "markdown",
   "metadata": {},
   "source": [
    "## Queremos obtener un conjunto de reglas de árbol de decisión para clasificar la especie de flor con las 4 medidas que tenemos"
   ]
  },
  {
   "cell_type": "markdown",
   "metadata": {},
   "source": [
    "### Separación de datos"
   ]
  },
  {
   "cell_type": "code",
   "execution_count": 5,
   "metadata": {},
   "outputs": [],
   "source": [
    "x_train, x_test, y_train, y_test = train_test_split(dataset.drop('especie', axis = 1), dataset['especie'], test_size = 0.3)"
   ]
  },
  {
   "cell_type": "code",
   "execution_count": 6,
   "metadata": {},
   "outputs": [
    {
     "name": "stdout",
     "output_type": "stream",
     "text": [
      "Accuracy score: 0.9111111111111111\n",
      "Matriz de confusión:\n",
      "[[19  0  0]\n",
      " [ 0 12  0]\n",
      " [ 0  4 10]]\n"
     ]
    }
   ],
   "source": [
    "# arbol de decision\n",
    "start_arbol = time.time()\n",
    "arbol = treeClassifier.DecisionTreeClassifier()\n",
    "arbol.fit(x_train, y_train)\n",
    "# predicción para los datos de prueba\n",
    "pred_arbol = arbol.predict(x_test)\n",
    "t_arbol = time.time() - start_arbol\n",
    "ac_arbol = accuracy_score(y_pred=pred_arbol, y_true=y_test)\n",
    "print(\"Accuracy score: {}\".format(accuracy_score(y_pred=pred_arbol, y_true=y_test)))\n",
    "print(\"Matriz de confusión:\\n{}\".format(confusion_matrix(y_pred=pred_arbol, y_true=y_test)))"
   ]
  },
  {
   "cell_type": "code",
   "execution_count": 7,
   "metadata": {},
   "outputs": [
    {
     "name": "stdout",
     "output_type": "stream",
     "text": [
      "Accuracy_score: 0.9333333333333333\n",
      "Matriz de confusión:\n",
      "[[19  0  0]\n",
      " [ 0 12  0]\n",
      " [ 0  3 11]]\n"
     ]
    }
   ],
   "source": [
    "# bosque aleatorio\n",
    "start_bosque = time.time()\n",
    "bosque = forest(800)\n",
    "bosque.fit(x_train, y_train)\n",
    "# predicción para los datos de prueba\n",
    "pred_bosque = bosque.predict(x_test)\n",
    "t_bosque = time.time() - start_bosque\n",
    "ac_bosque = accuracy_score(y_pred=pred_bosque, y_true=y_test)\n",
    "print(\"Accuracy_score: {}\".format(accuracy_score(y_pred=pred_bosque, y_true=y_test)))\n",
    "print(\"Matriz de confusión:\\n{}\".format(confusion_matrix(y_pred=pred_bosque, y_true=y_test)))"
   ]
  },
  {
   "cell_type": "code",
   "execution_count": 8,
   "metadata": {},
   "outputs": [
    {
     "name": "stdout",
     "output_type": "stream",
     "text": [
      "Accuracy_score: 0.9333333333333333\n",
      "Matriz de confusión:\n",
      "[[19  0  0]\n",
      " [ 0 12  0]\n",
      " [ 0  3 11]]\n"
     ]
    },
    {
     "name": "stderr",
     "output_type": "stream",
     "text": [
      "c:\\Users\\alonso.sandoval\\AppData\\Local\\anaconda3\\Lib\\site-packages\\sklearn\\neural_network\\_multilayer_perceptron.py:686: ConvergenceWarning: Stochastic Optimizer: Maximum iterations (10000) reached and the optimization hasn't converged yet.\n",
      "  warnings.warn(\n"
     ]
    }
   ],
   "source": [
    "# red neuronal\n",
    "start_red = time.time()\n",
    "redNeuronal = MLPClassifier(hidden_layer_sizes=(10,4,3),\n",
    "                            max_iter=10000,\n",
    "                            activation ='logistic',\n",
    "                            tol= 1e-7)\n",
    "\n",
    "redNeuronal.fit(x_train, y_train)\n",
    "pred_rn = redNeuronal.predict(x_test)\n",
    "t_red = time.time() - start_red\n",
    "ac_rn = accuracy_score(y_pred=pred_rn, y_true=y_test)\n",
    "print(\"Accuracy_score: {}\".format(accuracy_score(y_pred=pred_rn, y_true=y_test)))\n",
    "print(\"Matriz de confusión:\\n{}\".format(confusion_matrix(y_pred=pred_rn, y_true=y_test)))"
   ]
  },
  {
   "cell_type": "code",
   "execution_count": 9,
   "metadata": {},
   "outputs": [
    {
     "name": "stdout",
     "output_type": "stream",
     "text": [
      "Accuracy_score: 0.9777777777777777\n",
      "Matriz de confusión:\n",
      "[[19  0  0]\n",
      " [ 0 12  0]\n",
      " [ 0  1 13]]\n"
     ]
    }
   ],
   "source": [
    "# regresion logistica\n",
    "start_logi = time.time()\n",
    "logi = LogisticRegression()\n",
    "logi.fit(x_train, y_train)\n",
    "pred_logi = logi.predict(x_test)\n",
    "t_logi = time.time() - start_logi\n",
    "ac_logi = accuracy_score(y_pred=pred_logi, y_true=y_test)\n",
    "print(\"Accuracy_score: {}\".format(accuracy_score(y_pred=pred_logi, y_true=y_test)))\n",
    "print(\"Matriz de confusión:\\n{}\".format(confusion_matrix(y_pred=pred_logi, y_true=y_test)))"
   ]
  },
  {
   "cell_type": "code",
   "execution_count": 10,
   "metadata": {},
   "outputs": [
    {
     "name": "stdout",
     "output_type": "stream",
     "text": [
      "Accuracy_score: 0.9555555555555556\n",
      "Matriz de confusión:\n",
      "[[19  0  0]\n",
      " [ 0 12  0]\n",
      " [ 0  2 12]]\n"
     ]
    }
   ],
   "source": [
    "# máquina de soporte vectorial\n",
    "start_svm = time.time()\n",
    "svm = SVC()\n",
    "svm.fit(x_train, y_train)\n",
    "pred_svm = svm.predict(x_test)\n",
    "t_svm = time.time() - start_svm\n",
    "ac_svm = accuracy_score(y_pred=pred_svm, y_true=y_test)\n",
    "print(\"Accuracy_score: {}\".format(accuracy_score(y_pred=pred_svm, y_true=y_test)))\n",
    "print(\"Matriz de confusión:\\n{}\".format(confusion_matrix(y_pred=pred_svm, y_true=y_test)))"
   ]
  },
  {
   "cell_type": "code",
   "execution_count": 11,
   "metadata": {},
   "outputs": [
    {
     "name": "stdout",
     "output_type": "stream",
     "text": [
      "Accuracy_score: 0.9555555555555556\n",
      "Matriz de confusión:\n",
      "[[19  0  0]\n",
      " [ 0 12  0]\n",
      " [ 0  2 12]]\n"
     ]
    }
   ],
   "source": [
    "# naive bayes\n",
    "start_nb = time.time()\n",
    "nb = GaussianNB()\n",
    "nb.fit(x_train, y_train)\n",
    "pred_nb = nb.predict(x_test)\n",
    "t_nb = time.time() - start_nb\n",
    "ac_nb = accuracy_score(y_pred=pred_nb, y_true=y_test)\n",
    "print(\"Accuracy_score: {}\".format(accuracy_score(y_pred=pred_nb, y_true=y_test)))\n",
    "print(\"Matriz de confusión:\\n{}\".format(confusion_matrix(y_pred=pred_nb, y_true=y_test)))"
   ]
  },
  {
   "cell_type": "code",
   "execution_count": 12,
   "metadata": {},
   "outputs": [
    {
     "data": {
      "text/html": [
       "<div>\n",
       "<style scoped>\n",
       "    .dataframe tbody tr th:only-of-type {\n",
       "        vertical-align: middle;\n",
       "    }\n",
       "\n",
       "    .dataframe tbody tr th {\n",
       "        vertical-align: top;\n",
       "    }\n",
       "\n",
       "    .dataframe thead th {\n",
       "        text-align: right;\n",
       "    }\n",
       "</style>\n",
       "<table border=\"1\" class=\"dataframe\">\n",
       "  <thead>\n",
       "    <tr style=\"text-align: right;\">\n",
       "      <th></th>\n",
       "      <th>modelo</th>\n",
       "      <th>accuracy</th>\n",
       "      <th>tiempo</th>\n",
       "    </tr>\n",
       "  </thead>\n",
       "  <tbody>\n",
       "    <tr>\n",
       "      <th>0</th>\n",
       "      <td>naive bayes</td>\n",
       "      <td>0.955556</td>\n",
       "      <td>0.005040</td>\n",
       "    </tr>\n",
       "    <tr>\n",
       "      <th>1</th>\n",
       "      <td>regresión logística</td>\n",
       "      <td>0.977778</td>\n",
       "      <td>0.048472</td>\n",
       "    </tr>\n",
       "    <tr>\n",
       "      <th>2</th>\n",
       "      <td>arbol</td>\n",
       "      <td>0.911111</td>\n",
       "      <td>0.005989</td>\n",
       "    </tr>\n",
       "    <tr>\n",
       "      <th>3</th>\n",
       "      <td>bosque</td>\n",
       "      <td>0.933333</td>\n",
       "      <td>2.553130</td>\n",
       "    </tr>\n",
       "    <tr>\n",
       "      <th>4</th>\n",
       "      <td>red neuronal</td>\n",
       "      <td>0.933333</td>\n",
       "      <td>10.259902</td>\n",
       "    </tr>\n",
       "    <tr>\n",
       "      <th>5</th>\n",
       "      <td>svm</td>\n",
       "      <td>0.955556</td>\n",
       "      <td>0.007978</td>\n",
       "    </tr>\n",
       "  </tbody>\n",
       "</table>\n",
       "</div>"
      ],
      "text/plain": [
       "                modelo  accuracy     tiempo\n",
       "0          naive bayes  0.955556   0.005040\n",
       "1  regresión logística  0.977778   0.048472\n",
       "2                arbol  0.911111   0.005989\n",
       "3               bosque  0.933333   2.553130\n",
       "4         red neuronal  0.933333  10.259902\n",
       "5                  svm  0.955556   0.007978"
      ]
     },
     "execution_count": 12,
     "metadata": {},
     "output_type": "execute_result"
    }
   ],
   "source": [
    "resultados = pd.DataFrame({'modelo': ['naive bayes', 'regresión logística', 'arbol', 'bosque', 'red neuronal', 'svm'],\n",
    "'accuracy': [ac_nb, ac_logi, ac_arbol, ac_bosque, ac_rn, ac_svm],\n",
    "'tiempo': [t_nb, t_logi, t_arbol, t_bosque, t_red, t_svm]})\n",
    "resultados"
   ]
  },
  {
   "cell_type": "markdown",
   "metadata": {},
   "source": [
    "## Selección de hiperparámetros"
   ]
  },
  {
   "cell_type": "code",
   "execution_count": 14,
   "metadata": {},
   "outputs": [
    {
     "name": "stdout",
     "output_type": "stream",
     "text": [
      "Accuracy_score: 0.9333333333333333\n",
      "Matriz de confusión:\n",
      "[[19  0  0]\n",
      " [ 0 12  0]\n",
      " [ 0  3 11]]\n"
     ]
    }
   ],
   "source": [
    "# ejemplo de grid search con el random forest\n",
    "from sklearn.model_selection import GridSearchCV\n",
    "start_gs = time.time()\n",
    "bosque = forest()\n",
    "parametros = {'n_estimators': [100,200,400,800], 'max_depth': [4,8,12,16]}\n",
    "gs = GridSearchCV(bosque, parametros)\n",
    "gs.fit(x_train, y_train)\n",
    "pred_mejor_bosque = gs.predict(x_test)\n",
    "t_gs = time.time() - start_gs\n",
    "ac_mb = accuracy_score(y_pred=pred_mejor_bosque, y_true=y_test)\n",
    "print(\"Accuracy_score: {}\".format(accuracy_score(y_pred=pred_mejor_bosque, y_true=y_test)))\n",
    "print(\"Matriz de confusión:\\n{}\".format(confusion_matrix(y_pred=pred_mejor_bosque, y_true=y_test)))"
   ]
  },
  {
   "cell_type": "code",
   "execution_count": 16,
   "metadata": {},
   "outputs": [
    {
     "data": {
      "text/html": [
       "<div>\n",
       "<style scoped>\n",
       "    .dataframe tbody tr th:only-of-type {\n",
       "        vertical-align: middle;\n",
       "    }\n",
       "\n",
       "    .dataframe tbody tr th {\n",
       "        vertical-align: top;\n",
       "    }\n",
       "\n",
       "    .dataframe thead th {\n",
       "        text-align: right;\n",
       "    }\n",
       "</style>\n",
       "<table border=\"1\" class=\"dataframe\">\n",
       "  <thead>\n",
       "    <tr style=\"text-align: right;\">\n",
       "      <th></th>\n",
       "      <th>modelo</th>\n",
       "      <th>accuracy</th>\n",
       "      <th>tiempo</th>\n",
       "    </tr>\n",
       "  </thead>\n",
       "  <tbody>\n",
       "    <tr>\n",
       "      <th>0</th>\n",
       "      <td>naive bayes</td>\n",
       "      <td>0.955556</td>\n",
       "      <td>0.005040</td>\n",
       "    </tr>\n",
       "    <tr>\n",
       "      <th>1</th>\n",
       "      <td>regresión logística</td>\n",
       "      <td>0.977778</td>\n",
       "      <td>0.048472</td>\n",
       "    </tr>\n",
       "    <tr>\n",
       "      <th>2</th>\n",
       "      <td>arbol</td>\n",
       "      <td>0.911111</td>\n",
       "      <td>0.005989</td>\n",
       "    </tr>\n",
       "    <tr>\n",
       "      <th>3</th>\n",
       "      <td>bosque</td>\n",
       "      <td>0.933333</td>\n",
       "      <td>2.553130</td>\n",
       "    </tr>\n",
       "    <tr>\n",
       "      <th>4</th>\n",
       "      <td>red neuronal</td>\n",
       "      <td>0.933333</td>\n",
       "      <td>10.259902</td>\n",
       "    </tr>\n",
       "    <tr>\n",
       "      <th>5</th>\n",
       "      <td>svm</td>\n",
       "      <td>0.955556</td>\n",
       "      <td>0.007978</td>\n",
       "    </tr>\n",
       "    <tr>\n",
       "      <th>6</th>\n",
       "      <td>bosque con gs</td>\n",
       "      <td>0.933333</td>\n",
       "      <td>116.476755</td>\n",
       "    </tr>\n",
       "  </tbody>\n",
       "</table>\n",
       "</div>"
      ],
      "text/plain": [
       "                modelo  accuracy      tiempo\n",
       "0          naive bayes  0.955556    0.005040\n",
       "1  regresión logística  0.977778    0.048472\n",
       "2                arbol  0.911111    0.005989\n",
       "3               bosque  0.933333    2.553130\n",
       "4         red neuronal  0.933333   10.259902\n",
       "5                  svm  0.955556    0.007978\n",
       "6        bosque con gs  0.933333  116.476755"
      ]
     },
     "execution_count": 16,
     "metadata": {},
     "output_type": "execute_result"
    }
   ],
   "source": [
    "resultados = pd.DataFrame({'modelo': ['naive bayes', 'regresión logística', 'arbol', 'bosque', 'red neuronal', 'svm', 'bosque con gs'],\n",
    "'accuracy': [ac_nb, ac_logi, ac_arbol, ac_bosque, ac_rn, ac_svm, ac_mb],\n",
    "'tiempo': [t_nb, t_logi, t_arbol, t_bosque, t_red, t_svm, t_gs]})\n",
    "resultados"
   ]
  }
 ],
 "metadata": {
  "kernelspec": {
   "display_name": "base",
   "language": "python",
   "name": "python3"
  },
  "language_info": {
   "codemirror_mode": {
    "name": "ipython",
    "version": 3
   },
   "file_extension": ".py",
   "mimetype": "text/x-python",
   "name": "python",
   "nbconvert_exporter": "python",
   "pygments_lexer": "ipython3",
   "version": "3.11.7"
  }
 },
 "nbformat": 4,
 "nbformat_minor": 2
}
